{
  "nbformat": 4,
  "nbformat_minor": 0,
  "metadata": {
    "accelerator": "GPU",
    "colab": {
      "name": "Git1_CNN_CONVLSTM.ipynb",
      "provenance": [],
      "collapsed_sections": []
    },
    "kernelspec": {
      "display_name": "Python 3",
      "name": "python3"
    }
  },
  "cells": [
    {
      "cell_type": "code",
      "metadata": {
        "colab": {
          "base_uri": "https://localhost:8080/"
        },
        "id": "yqZ-nTl3xclq",
        "outputId": "0499b033-383f-4004-de60-8b3f17f769c2"
      },
      "source": [
        "from google.colab import drive\n",
        "drive.mount('/content/drive')"
      ],
      "execution_count": null,
      "outputs": [
        {
          "output_type": "stream",
          "text": [
            "Mounted at /content/drive\n"
          ],
          "name": "stdout"
        }
      ]
    },
    {
      "cell_type": "code",
      "metadata": {
        "id": "XWHruc9WEnIA"
      },
      "source": [
        "import keras\n",
        "from keras import applications\n",
        "from keras.preprocessing.image import ImageDataGenerator\n",
        "from keras import optimizers\n",
        "from keras.models import Sequential, Model \n",
        "from keras.layers import *\n",
        "from keras.callbacks import ModelCheckpoint, LearningRateScheduler, TensorBoard, EarlyStopping\n",
        " \n",
        "import os\n",
        "import cv2\n",
        "import numpy as np\n",
        "from sklearn.model_selection import train_test_split\n",
        "import keras.metrics as km\n",
        " \n",
        " \n",
        "from sklearn.metrics import accuracy_score\n",
        "from sklearn.metrics import precision_score\n",
        "from sklearn.metrics import recall_score\n",
        "from sklearn.metrics import f1_score\n",
        "from sklearn.metrics import cohen_kappa_score\n",
        "from sklearn.metrics import roc_auc_score\n",
        "from sklearn.metrics import multilabel_confusion_matrix\n",
        "\n",
        "import keras\n",
        "import numpy as np\n",
        "from time import time\n",
        "from keras.models import Sequential\n",
        "from keras.layers import LSTM, Dense\n",
        "from keras.utils import to_categorical\n",
        "from keras.callbacks import TensorBoard\n",
        "from sklearn.preprocessing import LabelEncoder\n",
        "from tensorflow.python.client import device_lib\n",
        "from sklearn.model_selection import train_test_split\n",
        "from matplotlib import pyplot"
      ],
      "execution_count": null,
      "outputs": []
    },
    {
      "cell_type": "code",
      "metadata": {
        "id": "IfA9boMDQNcJ"
      },
      "source": [
        "data_dir = '/content/drive/MyDrive/CONVLSTM123/'\n",
        "img_height , img_width =320,320 \n",
        "seq_len = 22\n",
        "batch_size = 8\n",
        "classes = [\"Col-0\", \"Cvi\", \"Ler-1\", \"Sf-2\"]"
      ],
      "execution_count": null,
      "outputs": []
    },
    {
      "cell_type": "code",
      "metadata": {
        "colab": {
          "base_uri": "https://localhost:8080/",
          "height": 285
        },
        "id": "aGMWsvWpp-yw",
        "outputId": "a9a25e0c-42f0-410a-cfc4-c8b576865e40"
      },
      "source": [
        "img = cv2.imread(\"/content/drive/MyDrive/CONVLSTM123/Col-0/BVZ0072-GC35L-RGB01~fullres-cor-T01-D4-35519-Col-0/BVZ0072-GC35L-RGB01~fullres-cor-T01-D4-35519_2016_10_01_12_00_00_00.jpg\")\n",
        "img = cv2.resize(img, (img_height, img_width))\n",
        "pyplot.imshow(img)"
      ],
      "execution_count": null,
      "outputs": [
        {
          "output_type": "execute_result",
          "data": {
            "text/plain": [
              "<matplotlib.image.AxesImage at 0x7fb31d7bcfd0>"
            ]
          },
          "metadata": {
            "tags": []
          },
          "execution_count": 10
        },
        {
          "output_type": "display_data",
          "data": {
            "image/png": "[encoded data removed]",
            "text/plain": [
              "<Figure size 432x288 with 1 Axes>"
            ]
          },
          "metadata": {
            "tags": []
          }
        }
      ]
    },
    {
      "cell_type": "code",
      "metadata": {
        "id": "f7_xmoYwRDry"
      },
      "source": [
        "def create_data(input_dir):\n",
        "    X = []\n",
        "    Y = []\n",
        "     \n",
        "    classes_list = os.listdir(input_dir)\n",
        "     \n",
        "    for c in classes_list:\n",
        "        print(c)\n",
        "        dir_list = os.listdir(os.path.join(input_dir, c))\n",
        "        for d in dir_list:\n",
        "           frames = frames_extraction(os.path.join(os.path.join(input_dir, c), d))\n",
        "           if len(frames) == seq_len:\n",
        "             X.append(frames)\n",
        "             y = [0]*len(classes)\n",
        "             y[classes.index(c)] = 1\n",
        "             Y.append(y)\n",
        "     \n",
        "    X = np.asarray(X).astype('uint8')\n",
        "    Y = np.asarray(Y).astype('uint8')\n",
        "    return X, Y"
      ],
      "execution_count": null,
      "outputs": []
    },
    {
      "cell_type": "code",
      "metadata": {
        "colab": {
          "base_uri": "https://localhost:8080/"
        },
        "id": "YNBWbw59lcmQ",
        "outputId": "9325daa1-0ce2-4ea6-c503-50536aa8094b"
      },
      "source": [
        "X, Y = create_data(data_dir)"
      ],
      "execution_count": null,
      "outputs": [
        {
          "output_type": "stream",
          "text": [
            "Col-0\n",
            "Cvi\n",
            "Ler-1\n",
            "Sf-2\n",
            ".ipynb_checkpoints\n"
          ],
          "name": "stdout"
        }
      ]
    },
    {
      "cell_type": "code",
      "metadata": {
        "colab": {
          "base_uri": "https://localhost:8080/"
        },
        "id": "0M0jPEtO2bvk",
        "outputId": "3c6b3c74-cd8b-49fc-f28d-80b5cc642c81"
      },
      "source": [
        "X.shape, Y.shape"
      ],
      "execution_count": null,
      "outputs": [
        {
          "output_type": "execute_result",
          "data": {
            "text/plain": [
              "((520, 22, 64, 64, 3), (520, 4))"
            ]
          },
          "metadata": {
            "tags": []
          },
          "execution_count": 14
        }
      ]
    },
    {
      "cell_type": "code",
      "metadata": {
        "id": "QMQSNpRWyuk9"
      },
      "source": [
        "np.save(\"/content/drive/MyDrive/Accession_class/CONVLSTM/Accession_img\",X)\n",
        "np.save(\"/content/drive/MyDrive/Accession_class/CONVLSTM/Class\",Y)"
      ],
      "execution_count": null,
      "outputs": []
    },
    {
      "cell_type": "code",
      "metadata": {
        "id": "lyNJwzmvvghq"
      },
      "source": [
        "X_train, X_test, y_train, y_test = train_test_split(X, Y, test_size=0.10, shuffle=True, random_state=0)"
      ],
      "execution_count": null,
      "outputs": []
    },
    {
      "cell_type": "code",
      "metadata": {
        "colab": {
          "base_uri": "https://localhost:8080/"
        },
        "id": "ckSpkzFE-rFl",
        "outputId": "24d1d233-9a98-45fb-9c98-5032375e237e"
      },
      "source": [
        "X_test.shape"
      ],
      "execution_count": null,
      "outputs": [
        {
          "output_type": "execute_result",
          "data": {
            "text/plain": [
              "(130, 22, 320, 320, 3)"
            ]
          },
          "metadata": {
            "tags": []
          },
          "execution_count": 4
        }
      ]
    },
    {
      "cell_type": "code",
      "metadata": {
        "id": "oRDXhUZA1HOs"
      },
      "source": [
        "X_train, X_val, y_train, y_val = train_test_split(X_train, y_train, test_size=0.20, shuffle=True, random_state=0)"
      ],
      "execution_count": null,
      "outputs": []
    },
    {
      "cell_type": "code",
      "metadata": {
        "colab": {
          "base_uri": "https://localhost:8080/"
        },
        "id": "UKXY27LA--2O",
        "outputId": "3ba8baff-a57d-4e40-e6e1-9c7331889beb"
      },
      "source": [
        "X_train.shape"
      ],
      "execution_count": null,
      "outputs": [
        {
          "output_type": "execute_result",
          "data": {
            "text/plain": [
              "(390, 22, 320, 320, 3)"
            ]
          },
          "metadata": {
            "tags": []
          },
          "execution_count": 5
        }
      ]
    },
    {
      "cell_type": "code",
      "metadata": {
        "id": "rcoa61sOvoNt"
      },
      "source": [
        "model = Sequential()\n",
        "model.add(TimeDistributed(Conv2D(10, (3, 3), activation = 'relu',padding=\"valid\"),input_shape = (22,320,320,3)))\n",
        "model.add(TimeDistributed(BatchNormalization()))\n",
        "model.add(TimeDistributed(MaxPooling2D(pool_size=(2, 2))))\n",
        "model.add(TimeDistributed(Conv2D(filters=20, kernel_size=(3,3), padding=\"valid\", activation=\"relu\")))\n",
        "model.add(TimeDistributed(BatchNormalization()))\n",
        "model.add(TimeDistributed(MaxPooling2D(pool_size=(2, 2))))\n",
        "model.add(TimeDistributed(Conv2D(filters=40, kernel_size=(3,3), padding=\"valid\", activation=\"relu\")))\n",
        "model.add(TimeDistributed(BatchNormalization()))\n",
        "model.add(TimeDistributed(MaxPooling2D(pool_size=(2, 2))))\n",
        "model.add(TimeDistributed(Conv2D(filters=80, kernel_size=(3,3), padding=\"valid\", activation=\"relu\")))\n",
        "model.add(TimeDistributed(BatchNormalization()))\n",
        "model.add(TimeDistributed(MaxPooling2D(pool_size=(2, 2))))\n",
        "model.add(ConvLSTM2D(filters = 40, kernel_size = (3, 3), return_sequences = True))\n",
        "model.add(Dropout(0.2))\n",
        "model.add(ConvLSTM2D(filters = 10, kernel_size = (3, 3), return_sequences = False))\n",
        "model.add(Dropout(0.2))\n",
        "model.add(Flatten())\n",
        "model.add(Dense(1024, activation=\"relu\"))\n",
        "model.add(Dropout(0.5))\n",
        "model.add(Dense(4, activation = \"softmax\"))\n"
      ],
      "execution_count": null,
      "outputs": []
    },
    {
      "cell_type": "code",
      "metadata": {
        "id": "YfoPTT4k07bx"
      },
      "source": [
        "model.summary()"
      ],
      "execution_count": null,
      "outputs": []
    },
    {
      "cell_type": "code",
      "metadata": {
        "id": "Zg5g5Ouwv_yS"
      },
      "source": [
        "from keras.utils.vis_utils import plot_model\n",
        "plot_model(model, to_file='model_plot.png', show_shapes=True, show_layer_names=True)"
      ],
      "execution_count": null,
      "outputs": []
    },
    {
      "cell_type": "code",
      "metadata": {
        "id": "hfMOuC4brFc_"
      },
      "source": [
        "opt = keras.optimizers.Adam(learning_rate=0.0001, beta_1=0.9, beta_2=0.999, epsilon=1e-07)\n",
        "model.compile(loss='categorical_crossentropy', optimizer=opt, metrics=[\"accuracy\"])\n",
        "earlystop=EarlyStopping(patience=9)\n",
        "callbacks=[earlystop]\n",
        "history = model.fit(x = X_train, y = y_train, epochs=80, batch_size =4)\n"
      ],
      "execution_count": null,
      "outputs": []
    },
    {
      "cell_type": "code",
      "metadata": {
        "id": "6wdv3NZUnTkl"
      },
      "source": [
        "model.evaluate(X_test,y_test,4)"
      ],
      "execution_count": null,
      "outputs": []
    },
    {
      "cell_type": "code",
      "metadata": {
        "id": "khoGDV0Qaivu"
      },
      "source": [
        "import matplotlib.pyplot as plt\n",
        "acc = history.history['accuracy']\n",
        "\n",
        "loss = history.history['loss']\n",
        "\n",
        "\n",
        "epochs_range = range(80)\n",
        "\n",
        "plt.figure(figsize=(15, 15))\n",
        "plt.subplot(2, 2, 1)\n",
        "plt.plot(epochs_range, acc, label='Training Accuracy')\n",
        "plt.plot(epochs_range, loss, label='Training Loss')\n",
        "plt.legend(loc='upper right')\n",
        "plt.title('Training Accuracy and Loss')\n"
      ],
      "execution_count": null,
      "outputs": []
    },
    {
      "cell_type": "code",
      "metadata": {
        "id": "fKIqbmR612UT"
      },
      "source": [
        "from sklearn.metrics import classification_report\n",
        "y_pred= model.predict(X_test,4)"
      ],
      "execution_count": null,
      "outputs": []
    },
    {
      "cell_type": "code",
      "metadata": {
        "id": "4yVd7Eh4FeVc"
      },
      "source": [
        "y_pred = np.argmax(y_pred, axis = 1)\n",
        "y_test = np.argmax(y_test, axis = 1)"
      ],
      "execution_count": null,
      "outputs": []
    },
    {
      "cell_type": "code",
      "metadata": {
        "id": "bYpjimX6FkwY"
      },
      "source": [
        "print(classification_report(y_test, y_pred))"
      ],
      "execution_count": null,
      "outputs": []
    },
    {
      "cell_type": "code",
      "metadata": {
        "id": "jqVOUx5JD0rB"
      },
      "source": [
        "from sklearn.metrics import confusion_matrix\n",
        "print(confusion_matrix(y_test,y_pred))"
      ],
      "execution_count": null,
      "outputs": []
    }
  ]
}